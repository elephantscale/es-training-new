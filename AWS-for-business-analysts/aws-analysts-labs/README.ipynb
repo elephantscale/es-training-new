{
 "cells": [
  {
   "cell_type": "markdown",
   "metadata": {},
   "source": [
    "# AWS For Business Analysts \n",
    "\n",
    "\n",
    "## General pre-requisites\n",
    "\n",
    "- The quickest setup to run example notebooks includes:\n",
    "  - An [AWS account](http://docs.aws.amazon.com/sagemaker/latest/dg/gs-account.html)\n",
    "  - Proper [IAM User and Role](http://docs.aws.amazon.com/sagemaker/latest/dg/authentication-and-access-control.html) setup\n",
    "  - An [Amazon SageMaker Notebook Instance](http://docs.aws.amazon.com/sagemaker/latest/dg/gs-setup-working-env.html)\n",
    "  - An [S3 bucket](http://docs.aws.amazon.com/sagemaker/latest/dg/gs-config-permissions.html)\n",
    "\n",
    "  \n",
    "## Labs\n",
    "\n",
    "### 1 - Verifying AWS Access\n",
    "- 1.1 - Login to AWS, credentials\n",
    "- 1.2 - S3 Intro\n",
    "- 1.3 - SageMaker access (`testing123-python` and `testing-123-sagemaker`)\n",
    "\n",
    "### 2 - Data Analysis using Athena (SQL)\n",
    "- 2.1 - [SQL with Athena](athena/README.ipynb)\n",
    "\n",
    "### 3 - Exploratory Data Analytics (EDA) (Python)\n",
    "- 3.1 - [Basic Stats](basics/stats-basics.ipynb)\n",
    "- 3.2 - [Visualization](basics/visualizing.ipynb)\n",
    "- 3.3 - [Explore house sales](exploration/explore-house-sales.ipynb)\n",
    "- 3.4 - [Visualize house sales](exploration/visualize-house-sales.ipynb)\n",
    "\n",
    "### 4 - Linear Regression\n",
    "- 4.1 - [Linear Regression in Python Scikit](linear-regression/linear-scikit.ipynb)\n",
    "- 4.2 - [Linear Regression in Sagemaker](linear-regression/linear-sagemaker.ipynb)\n",
    "\n",
    "### 5 - Logistic Regression\n",
    "- 5.1 - [Logistic Regression in Python Scikit](logistic-regression/logistic-college-admission-scikit.ipynb) - College admission data\n",
    "- 5.2 - [Logistic Regression in Sagemaker](logistic-regression/logistic-prosper-sagemaker.ipynb) - Prosper loan data\n",
    "\n"
   ]
  },
  {
   "cell_type": "code",
   "execution_count": null,
   "metadata": {},
   "outputs": [],
   "source": []
  }
 ],
 "metadata": {
  "kernelspec": {
   "display_name": "Python 3",
   "language": "python",
   "name": "python3"
  },
  "language_info": {
   "codemirror_mode": {
    "name": "ipython",
    "version": 3
   },
   "file_extension": ".py",
   "mimetype": "text/x-python",
   "name": "python",
   "nbconvert_exporter": "python",
   "pygments_lexer": "ipython3",
   "version": "3.6.8"
  }
 },
 "nbformat": 4,
 "nbformat_minor": 2
}
